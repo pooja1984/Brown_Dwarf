{
 "cells": [
  {
   "cell_type": "markdown",
   "id": "51519457",
   "metadata": {},
   "source": [
    "# Stacking\n",
    "## This is the notebook to get the stacked flux limits from nine Brown Dwarfs."
   ]
  },
  {
   "cell_type": "code",
   "execution_count": 1,
   "id": "f5a90423",
   "metadata": {},
   "outputs": [
    {
     "name": "stderr",
     "output_type": "stream",
     "text": [
      "WARNING: AstropyDeprecationWarning: astropy.extern.six will be removed in 4.0, use the six module directly if it is still needed [astropy.extern.six]\n"
     ]
    }
   ],
   "source": [
    "import sys\n",
    "import numpy as np\n",
    "import fermipy\n",
    "from fermipy.gtanalysis import GTAnalysis\n",
    "from fermipy.plotting import ROIPlotter, SEDPlotter\n",
    "from fermipy.spectrum import PowerLaw\n",
    "import pyLikelihood\n",
    "PL= PowerLaw()"
   ]
  },
  {
   "cell_type": "code",
   "execution_count": 2,
   "id": "6d819917",
   "metadata": {},
   "outputs": [],
   "source": [
    "data1 = np.load('source2_sed_test.npy',allow_pickle=True).flat[0]\n",
    "data2 = np.load('source3_sed_test.npy',allow_pickle=True).flat[0]\n",
    "data3 = np.load('source8_sed_test.npy',allow_pickle=True).flat[0]\n",
    "data4 = np.load('source11_sed_test.npy',allow_pickle=True).flat[0]\n",
    "data5 = np.load('source16_sed_test.npy',allow_pickle=True).flat[0]\n",
    "data6 = np.load('source17_sed_test.npy',allow_pickle=True).flat[0]\n",
    "data7 = np.load('source20_sed_test.npy',allow_pickle=True).flat[0]\n",
    "data8 = np.load('source12_sed_test.npy',allow_pickle=True).flat[0]\n",
    "data9 = np.load('source13_sed_test.npy',allow_pickle=True).flat[0]"
   ]
  },
  {
   "cell_type": "code",
   "execution_count": 3,
   "id": "06f1023a",
   "metadata": {},
   "outputs": [],
   "source": [
    "eflux_scan1 = data1['norm_scan']*data1['ref_eflux'][:,None]\n",
    "eflux_scan2 = data2['norm_scan']*data2['ref_eflux'][:,None]\n",
    "eflux_scan3 = data3['norm_scan']*data3['ref_eflux'][:,None]\n",
    "eflux_scan4 = data4['norm_scan']*data4['ref_eflux'][:,None]\n",
    "eflux_scan5 = data5['norm_scan']*data5['ref_eflux'][:,None]\n",
    "eflux_scan6 = data6['norm_scan']*data6['ref_eflux'][:,None]\n",
    "eflux_scan7 = data7['norm_scan']*data7['ref_eflux'][:,None]\n",
    "eflux_scan8 = data8['norm_scan']*data8['ref_eflux'][:,None]\n",
    "eflux_scan9 = data9['norm_scan']*data9['ref_eflux'][:,None]"
   ]
  },
  {
   "cell_type": "code",
   "execution_count": 7,
   "id": "fc8f0e63",
   "metadata": {},
   "outputs": [],
   "source": [
    "eflux_scan_comb = eflux_scan1[0] + eflux_scan2[0] + eflux_scan3[0] + eflux_scan4[0] + eflux_scan5[0] + eflux_scan6[0] + eflux_scan7[0] + eflux_scan8[0] + eflux_scan9[0]\n",
    "eflux_scan_avg = (eflux_scan1[0] + eflux_scan2[0] + eflux_scan3[0] + eflux_scan4[0] + eflux_scan5[0] + eflux_scan6[0] + eflux_scan7[0] + eflux_scan8[0] + eflux_scan9[0])/9."
   ]
  },
  {
   "cell_type": "code",
   "execution_count": 5,
   "id": "f0d9703c",
   "metadata": {},
   "outputs": [],
   "source": [
    "dloglike_scan1 = data1['dloglike_scan']\n",
    "dloglike_scan2 = data2['dloglike_scan']\n",
    "dloglike_scan3 = data3['dloglike_scan']\n",
    "dloglike_scan4 = data4['dloglike_scan']\n",
    "dloglike_scan5 = data5['dloglike_scan']\n",
    "dloglike_scan6 = data6['dloglike_scan']\n",
    "dloglike_scan7 = data7['dloglike_scan']\n",
    "dloglike_scan8 = data8['dloglike_scan']\n",
    "dloglike_scan9 = data9['dloglike_scan']"
   ]
  },
  {
   "cell_type": "code",
   "execution_count": 9,
   "id": "403f5eea",
   "metadata": {},
   "outputs": [],
   "source": [
    "dloglike_scan_comb = data1['dloglike_scan'][0]-np.max(data1['dloglike_scan'][0])  + data2['dloglike_scan'][24]-np.max(data2['dloglike_scan'][0])  + data3['dloglike_scan'][0]-np.max(data3['dloglike_scan'][0])  + data4['dloglike_scan'][0]-np.max(data4['dloglike_scan'][0])  + data5['dloglike_scan'][0]-np.max(data5['dloglike_scan'][0])  + data6['dloglike_scan'][0]-np.max(data6['dloglike_scan'][0])  + data7['dloglike_scan'][0]-np.max(data7['dloglike_scan'][0])  + data8['dloglike_scan'][0]-np.max(data8['dloglike_scan'][0])  + data9['dloglike_scan'][0]-np.max(data9['dloglike_scan'][0]) "
   ]
  },
  {
   "cell_type": "code",
   "execution_count": 10,
   "id": "0a7838ee",
   "metadata": {},
   "outputs": [],
   "source": [
    "fluxul1 = float(np.interp(2.71/2., data1['dloglike_scan'][0]-np.max(data1['dloglike_scan'][0]) , eflux_scan1[0]))\n",
    "fluxul2 = float(np.interp(2.71/2., data2['dloglike_scan'][0]-np.max(data2['dloglike_scan'][0]) , eflux_scan2[0]))\n",
    "fluxul3 = float(np.interp(2.71/2., data3['dloglike_scan'][0]-np.max(data3['dloglike_scan'][0]) , eflux_scan3[0]))\n",
    "fluxul4 = float(np.interp(2.71/2., data4['dloglike_scan'][0]-np.max(data4['dloglike_scan'][0]) , eflux_scan4[0]))\n",
    "fluxul5 = float(np.interp(2.71/2., data5['dloglike_scan'][0]-np.max(data5['dloglike_scan'][0]) , eflux_scan5[0]))\n",
    "fluxul6 = float(np.interp(2.71/2., data6['dloglike_scan'][0]-np.max(data6['dloglike_scan'][0]) , eflux_scan6[0]))\n",
    "fluxul7 = float(np.interp(2.71/2., data7['dloglike_scan'][0]-np.max(data7['dloglike_scan'][0]) , eflux_scan7[0]))\n",
    "fluxul8 = float(np.interp(2.71/2., data8['dloglike_scan'][0]-np.max(data8['dloglike_scan'][0]) , eflux_scan8[0]))\n",
    "fluxul9 = float(np.interp(2.71/2., data9['dloglike_scan'][0]-np.max(data9['dloglike_scan'][0]) , eflux_scan9[0]))"
   ]
  },
  {
   "cell_type": "code",
   "execution_count": 11,
   "id": "4f33df9e",
   "metadata": {},
   "outputs": [
    {
     "name": "stdout",
     "output_type": "stream",
     "text": [
      "fluxul1= 4.604007607691591e-07\n",
      "fluxul2= 4.604007607691591e-07\n",
      "fluxul3= 5.516339928733725e-07\n",
      "fluxul4= 6.082375138729814e-07\n",
      "fluxul5= 3.1872468817567855e-07\n",
      "fluxul6= 4.846219065303804e-07\n",
      "fluxul7= 3.965799303780241e-07\n",
      "fluxul8= 1.6700714355201542e-07\n",
      "fluxul9= 6.894065217798519e-07\n"
     ]
    }
   ],
   "source": [
    "print (\"fluxul1=\",fluxul1)\n",
    "print (\"fluxul2=\",fluxul2)\n",
    "print (\"fluxul3=\",fluxul3)\n",
    "print (\"fluxul4=\",fluxul4)\n",
    "print (\"fluxul5=\",fluxul5)\n",
    "print (\"fluxul6=\",fluxul6)\n",
    "print (\"fluxul7=\",fluxul7)\n",
    "print (\"fluxul8=\",fluxul8)\n",
    "print (\"fluxul9=\",fluxul9)"
   ]
  },
  {
   "cell_type": "code",
   "execution_count": 14,
   "id": "156ac3ce",
   "metadata": {},
   "outputs": [],
   "source": [
    "fluxul_comb = float(np.interp(2.71/2., dloglike_scan_comb, eflux_scan_comb))"
   ]
  },
  {
   "cell_type": "code",
   "execution_count": 15,
   "id": "bcf26c0c",
   "metadata": {},
   "outputs": [
    {
     "name": "stdout",
     "output_type": "stream",
     "text": [
      "4.137013218700622e-06\n"
     ]
    }
   ],
   "source": [
    "print (fluxul_comb)"
   ]
  },
  {
   "cell_type": "code",
   "execution_count": null,
   "id": "f45afa8e",
   "metadata": {},
   "outputs": [],
   "source": []
  }
 ],
 "metadata": {
  "kernelspec": {
   "display_name": "Python [conda env:fermi] *",
   "language": "python",
   "name": "conda-env-fermi-py"
  },
  "language_info": {
   "codemirror_mode": {
    "name": "ipython",
    "version": 3
   },
   "file_extension": ".py",
   "mimetype": "text/x-python",
   "name": "python",
   "nbconvert_exporter": "python",
   "pygments_lexer": "ipython3",
   "version": "3.7.12"
  }
 },
 "nbformat": 4,
 "nbformat_minor": 5
}
